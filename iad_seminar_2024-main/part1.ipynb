version https://git-lfs.github.com/spec/v1
oid sha256:5af6a1e55037c6369529a7368d28e6727d969d9495782b4f2794fe3efd0c18c8
size 541270
