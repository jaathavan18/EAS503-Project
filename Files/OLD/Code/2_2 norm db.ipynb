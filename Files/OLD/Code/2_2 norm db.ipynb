version https://git-lfs.github.com/spec/v1
oid sha256:3609160878c11ba624f4490ac0f467210cf2ed4dda50e66f50fabffd1cfe9dd2
size 14020
