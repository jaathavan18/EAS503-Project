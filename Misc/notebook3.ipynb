version https://git-lfs.github.com/spec/v1
oid sha256:8fbed88132cf3233da33a247f060412ec330cb0b2dd6e9619d7c5315acdfc71a
size 66638
