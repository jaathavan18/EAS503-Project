version https://git-lfs.github.com/spec/v1
oid sha256:d3f760b24cc7492593b99724c8e3d3b752eb216b05362ee4e4442120ca1d8a52
size 22520
